{
 "cells": [
  {
   "cell_type": "markdown",
   "id": "0b427f6a",
   "metadata": {},
   "source": [
    "# Coin Toss Game"
   ]
  },
  {
   "cell_type": "markdown",
   "id": "d3d4b8fa",
   "metadata": {},
   "source": [
    "This is a short exercise testing the random package in a simple coin toss game."
   ]
  },
  {
   "cell_type": "code",
   "execution_count": 2,
   "id": "0aecb7a2",
   "metadata": {},
   "outputs": [],
   "source": [
    "import random as rnd"
   ]
  },
  {
   "cell_type": "code",
   "execution_count": 3,
   "id": "c7021d90",
   "metadata": {},
   "outputs": [],
   "source": [
    "toss = ['heads','tails']"
   ]
  },
  {
   "cell_type": "code",
   "execution_count": 4,
   "id": "155f9c48",
   "metadata": {},
   "outputs": [],
   "source": [
    "def gameA(bet):\n",
    "    totalHeads = 0\n",
    "    totalTails = 0\n",
    "    numToss = 1000\n",
    "    for flip in (rnd.choices(toss, weights=(0.51,0.49), k=numToss)):\n",
    "        if flip == 'heads':\n",
    "            totalHeads += 1\n",
    "            bet -= 1\n",
    "        else:\n",
    "            totalTails += 1\n",
    "            bet += 1\n",
    "    if totalHeads > totalTails:\n",
    "        print('Results in loss')\n",
    "    elif totalTails > totalHeads:\n",
    "        print('Results in win')\n",
    "    else:\n",
    "        print('Results in tie')\n",
    "    return (totalHeads/numToss, totalTails/numToss)"
   ]
  },
  {
   "cell_type": "code",
   "execution_count": 5,
   "id": "48191719",
   "metadata": {},
   "outputs": [],
   "source": [
    "def gameB(bet):\n",
    "    totalHeads = 0\n",
    "    totalTails = 0\n",
    "    numToss = 1000\n",
    "    \n",
    "    while(numToss > 0):\n",
    "        if (bet % 3 == 0):\n",
    "            for flips in (rnd.choices(toss, weights=(0.91, 0.09), k=1)):\n",
    "                if flips == 'heads':\n",
    "                    totalHeads += 1\n",
    "                    bet -= 1\n",
    "                else:\n",
    "                    totalTails += 1\n",
    "                    bet += 1\n",
    "        else:\n",
    "            for flips in (rnd.choices(toss, weights=(0.26, 0.74), k=1)):\n",
    "                if flips == 'heads':\n",
    "                    totalHeads += 1\n",
    "                    bet -= 1\n",
    "                else:\n",
    "                    totalTails += 1\n",
    "                    bet += 1\n",
    "        numToss -= 1\n",
    "    \n",
    "    if totalHeads > totalTails:\n",
    "        print('Results in loss')\n",
    "    elif totalTails > totalHeads:\n",
    "        print('Results in win')\n",
    "    else:\n",
    "        print('Results in tie')\n",
    "    return (totalHeads/1000, totalTails/1000)\n",
    "        \n",
    "    "
   ]
  },
  {
   "cell_type": "code",
   "execution_count": 6,
   "id": "75081f25",
   "metadata": {},
   "outputs": [
    {
     "name": "stdout",
     "output_type": "stream",
     "text": [
      "Results in loss\n"
     ]
    },
    {
     "data": {
      "text/plain": [
       "(0.502, 0.498)"
      ]
     },
     "execution_count": 6,
     "metadata": {},
     "output_type": "execute_result"
    }
   ],
   "source": [
    "gameA(1)"
   ]
  },
  {
   "cell_type": "code",
   "execution_count": 7,
   "id": "3351beb9",
   "metadata": {},
   "outputs": [
    {
     "name": "stdout",
     "output_type": "stream",
     "text": [
      "Results in loss\n"
     ]
    },
    {
     "data": {
      "text/plain": [
       "(0.508, 0.492)"
      ]
     },
     "execution_count": 7,
     "metadata": {},
     "output_type": "execute_result"
    }
   ],
   "source": [
    "gameB(1)"
   ]
  }
 ],
 "metadata": {
  "kernelspec": {
   "display_name": "Python 3 (ipykernel)",
   "language": "python",
   "name": "python3"
  },
  "language_info": {
   "codemirror_mode": {
    "name": "ipython",
    "version": 3
   },
   "file_extension": ".py",
   "mimetype": "text/x-python",
   "name": "python",
   "nbconvert_exporter": "python",
   "pygments_lexer": "ipython3",
   "version": "3.10.9"
  }
 },
 "nbformat": 4,
 "nbformat_minor": 5
}
